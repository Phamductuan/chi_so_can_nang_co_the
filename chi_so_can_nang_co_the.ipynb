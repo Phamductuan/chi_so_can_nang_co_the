{
 "cells": [
  {
   "cell_type": "code",
   "execution_count": 4,
   "id": "6135882e",
   "metadata": {},
   "outputs": [
    {
     "name": "stdout",
     "output_type": "stream",
     "text": [
      "Nhap can nang va chieu cao: \n",
      "49 1.9\n",
      " gay cap do III\n"
     ]
    }
   ],
   "source": [
    "import math\n",
    "print(\"Nhap can nang va chieu cao: \")\n",
    "can_nang, chieucao = input().split()\n",
    "can_nang = int(can_nang)\n",
    "chieucao = float(chieucao)\n",
    "bmi = can_nang/(chieucao *chieucao)\n",
    "bmi = round(bmi,2)\n",
    "if bmi >40:\n",
    "    print(\" Beo phi cap do III\")\n",
    "elif bmi >= 35 and bmi <40:\n",
    "    print(\" Beo phi cap do II\")\n",
    "elif bmi >=30 and bmi <35:\n",
    "    print(\" Beo phi cap do I\")\n",
    "elif bmi >=25 and bmi <30:\n",
    "    print(\" thua can\")\n",
    "elif bmi >= 18.5 and bmi <25:\n",
    "    print(\"Binh thuong\")\n",
    "elif bmi >=17 and bmi < 18.5:\n",
    "     print(\"gay cap do I\")\n",
    "elif bmi >= 16 and bmi < 17:\n",
    "     print(\" gay cap do II\")\n",
    "else:\n",
    "    print(\" gay cap do III\")"
   ]
  }
 ],
 "metadata": {
  "kernelspec": {
   "display_name": "Python 3 (ipykernel)",
   "language": "python",
   "name": "python3"
  },
  "language_info": {
   "codemirror_mode": {
    "name": "ipython",
    "version": 3
   },
   "file_extension": ".py",
   "mimetype": "text/x-python",
   "name": "python",
   "nbconvert_exporter": "python",
   "pygments_lexer": "ipython3",
   "version": "3.9.6"
  }
 },
 "nbformat": 4,
 "nbformat_minor": 5
}
